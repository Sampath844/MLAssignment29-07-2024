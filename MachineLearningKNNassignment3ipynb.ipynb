{
  "nbformat": 4,
  "nbformat_minor": 0,
  "metadata": {
    "colab": {
      "provenance": [],
      "authorship_tag": "ABX9TyP0Mju+msGKKJhMofV3lZcH",
      "include_colab_link": true
    },
    "kernelspec": {
      "name": "python3",
      "display_name": "Python 3"
    },
    "language_info": {
      "name": "python"
    }
  },
  "cells": [
    {
      "cell_type": "markdown",
      "metadata": {
        "id": "view-in-github",
        "colab_type": "text"
      },
      "source": [
        "<a href=\"https://colab.research.google.com/github/Sampath844/MLAssignment29-07-2024/blob/main/MachineLearningKNNassignment3ipynb.ipynb\" target=\"_parent\"><img src=\"https://colab.research.google.com/assets/colab-badge.svg\" alt=\"Open In Colab\"/></a>"
      ]
    },
    {
      "cell_type": "code",
      "execution_count": 19,
      "metadata": {
        "id": "d3Vz6VfKq_te"
      },
      "outputs": [],
      "source": [
        "from sklearn.feature_extraction.text import TfidfVectorizer, CountVectorizer\n",
        "import pandas as pd\n",
        "import numpy as np\n",
        "from scipy.sparse import hstack"
      ]
    },
    {
      "cell_type": "code",
      "source": [
        "import pandas as pd\n",
        "from sklearn.feature_extraction.text import TfidfVectorizer\n",
        "\n",
        "# Load the CSV file\n",
        "file_path = 'train.csv'  # Update the file path as needed\n",
        "df = pd.read_csv(file_path)\n",
        "\n",
        "# Fill NaN values with empty strings\n",
        "df['Prompt'] = df['Prompt'].fillna('')\n",
        "df['Answer'] = df['Answer'].fillna('')\n",
        "\n",
        "# Initialize the TF-IDF vectorizer for 'Prompt' column\n",
        "tfidf_vectorizer_prompt = TfidfVectorizer()\n",
        "tfidf_prompt_matrix = tfidf_vectorizer_prompt.fit_transform(df['Prompt'])\n",
        "tfidf_prompt_vectors = pd.DataFrame(tfidf_prompt_matrix.toarray(), columns=tfidf_vectorizer_prompt.get_feature_names_out())\n",
        "\n",
        "# Initialize the TF-IDF vectorizer for 'Answer' column\n",
        "tfidf_vectorizer_answer = TfidfVectorizer()\n",
        "tfidf_answer_matrix = tfidf_vectorizer_answer.fit_transform(df['Answer'])\n",
        "tfidf_answer_vectors = pd.DataFrame(tfidf_answer_matrix.toarray(), columns=tfidf_vectorizer_answer.get_feature_names_out())\n",
        "\n",
        "# Display the TF-IDF vectors for 'Prompt' and 'Answer'\n",
        "print('TF-IDF Vectors for Prompts:')\n",
        "print(tfidf_prompt_vectors.head())\n",
        "\n",
        "print('\\nTF-IDF Vectors for Answers:')\n",
        "print(tfidf_answer_vectors.head())\n",
        "\n",
        "# Optionally, save the TF-IDF vectors to CSV files\n",
        "tfidf_prompt_vectors.to_csv('tfidf_prompt_vectors.csv', index=False)\n",
        "tfidf_answer_vectors.to_csv('tfidf_answer_vectors.csv', index=False)\n"
      ],
      "metadata": {
        "colab": {
          "base_uri": "https://localhost:8080/"
        },
        "id": "yQJbIDETsW3H",
        "outputId": "331881e2-fbab-45c8-cb43-5a63cb005111"
      },
      "execution_count": null,
      "outputs": [
        {
          "metadata": {
            "tags": null
          },
          "name": "stdout",
          "output_type": "stream",
          "text": [
            "TF-IDF Vectors for Prompts:\n",
            "    00  000  0000  0008  000â  001  002  0024  003  004  ...  風が吹く街  \\\n",
            "0  0.0  0.0   0.0   0.0   0.0  0.0  0.0   0.0  0.0  0.0  ...    0.0   \n",
            "1  0.0  0.0   0.0   0.0   0.0  0.0  0.0   0.0  0.0  0.0  ...    0.0   \n",
            "2  0.0  0.0   0.0   0.0   0.0  0.0  0.0   0.0  0.0  0.0  ...    0.0   \n",
            "3  0.0  0.0   0.0   0.0   0.0  0.0  0.0   0.0  0.0  0.0  ...    0.0   \n",
            "4  0.0  0.0   0.0   0.0   0.0  0.0  0.0   0.0  0.0  0.0  ...    0.0   \n",
            "\n",
            "   香港島と九龍半島の間  香港街道映照  骗取被害人林2某xx的信任与林签订合作协议   黒人  얼마나  좋을까  １３人の被告らは  \\\n",
            "0         0.0     0.0                    0.0  0.0  0.0  0.0       0.0   \n",
            "1         0.0     0.0                    0.0  0.0  0.0  0.0       0.0   \n",
            "2         0.0     0.0                    0.0  0.0  0.0  0.0       0.0   \n",
            "3         0.0     0.0                    0.0  0.0  0.0  0.0       0.0   \n",
            "4         0.0     0.0                    0.0  0.0  0.0  0.0       0.0   \n",
            "\n",
            "   ２００２年選挙運動およびそれに続く２００４年の州知事選に関する陰謀  ３ｄプリンターで使う素材のことです  \n",
            "0                                0.0                0.0  \n",
            "1                                0.0                0.0  \n",
            "2                                0.0                0.0  \n",
            "3                                0.0                0.0  \n",
            "4                                0.0                0.0  \n",
            "\n",
            "[5 rows x 69029 columns]\n",
            "\n",
            "TF-IDF Vectors for Answers:\n",
            "    00  000  0000  000000000000000000  000000000018125  00000000003609375  \\\n",
            "0  0.0  0.0   0.0                 0.0              0.0                0.0   \n",
            "1  0.0  0.0   0.0                 0.0              0.0                0.0   \n",
            "2  0.0  0.0   0.0                 0.0              0.0                0.0   \n",
            "3  0.0  0.0   0.0                 0.0              0.0                0.0   \n",
            "4  0.0  0.0   0.0                 0.0              0.0                0.0   \n",
            "\n",
            "   00000000007211875  000000000144238546875  0000000002884953125  \\\n",
            "0                0.0                    0.0                  0.0   \n",
            "1                0.0                    0.0                  0.0   \n",
            "2                0.0                    0.0                  0.0   \n",
            "3                0.0                    0.0                  0.0   \n",
            "4                0.0                    0.0                  0.0   \n",
            "\n",
            "   000000000576903125  ...  道路停しますが水生物死亡については細な情報を提供しません  選の会場で  那么您应该购买一个电视秀  \\\n",
            "0                 0.0  ...                           0.0    0.0           0.0   \n",
            "1                 0.0  ...                           0.0    0.0           0.0   \n",
            "2                 0.0  ...                           0.0    0.0           0.0   \n",
            "3                 0.0  ...                           0.0    0.0           0.0   \n",
            "4                 0.0  ...                           0.0    0.0           0.0   \n",
            "\n",
            "   音楽の印象が  風がく街   黒人   건강  보고서  신생아   자트  \n",
            "0     0.0   0.0  0.0  0.0  0.0  0.0  0.0  \n",
            "1     0.0   0.0  0.0  0.0  0.0  0.0  0.0  \n",
            "2     0.0   0.0  0.0  0.0  0.0  0.0  0.0  \n",
            "3     0.0   0.0  0.0  0.0  0.0  0.0  0.0  \n",
            "4     0.0   0.0  0.0  0.0  0.0  0.0  0.0  \n",
            "\n",
            "[5 rows x 40386 columns]\n"
          ]
        }
      ]
    }
  ]
}